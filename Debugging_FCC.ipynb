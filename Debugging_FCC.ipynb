{
  "nbformat": 4,
  "nbformat_minor": 0,
  "metadata": {
    "colab": {
      "provenance": [],
      "collapsed_sections": [
        "-jD1ERUejg-8",
        "tUHL_WNDktsT",
        "U1kzGD5alatZ",
        "Va5ujqKXmaWs",
        "WH6Pzdn3mq_Z",
        "vIY-U_MSoYYP",
        "Pxt4m9clpWi2",
        "c-5guzQeuN1b"
      ],
      "authorship_tag": "ABX9TyN170GVMPvlESjY2uvEIJQ9",
      "include_colab_link": true
    },
    "kernelspec": {
      "name": "python3",
      "display_name": "Python 3"
    },
    "language_info": {
      "name": "python"
    }
  },
  "cells": [
    {
      "cell_type": "markdown",
      "metadata": {
        "id": "view-in-github",
        "colab_type": "text"
      },
      "source": [
        "<a href=\"https://colab.research.google.com/github/Tarunnakka30/debugging-fcc/blob/main/Debugging_FCC.ipynb\" target=\"_parent\"><img src=\"https://colab.research.google.com/assets/colab-badge.svg\" alt=\"Open In Colab\"/></a>"
      ]
    },
    {
      "cell_type": "markdown",
      "source": [
        "# Use the JavaScript Console to Check the Value of a Variable\n",
        "Both Chrome and Firefox have excellent JavaScript consoles, also known as DevTools, for debugging your JavaScript.\n",
        "\n",
        "You can find Developer tools in your Chrome's menu or Web Console in Firefox's menu. If you're using a different browser, or a mobile phone, we strongly recommend switching to desktop Firefox or Chrome.\n",
        "\n",
        "The console.log() method, which \"prints\" the output of what's within its parentheses to the console, will likely be the most helpful debugging tool. Placing it at strategic points in your code can show you the intermediate values of variables. It's good practice to have an idea of what the output should be before looking at what it is. Having check points to see the status of your calculations throughout your code will help narrow down where the problem is.\n",
        "\n",
        "Here's an example to print the string Hello world! to the console:"
      ],
      "metadata": {
        "id": "-jD1ERUejg-8"
      }
    },
    {
      "cell_type": "code",
      "source": [
        "console.log('Hello world!');"
      ],
      "metadata": {
        "id": "I2B_nnwHjluH"
      },
      "execution_count": null,
      "outputs": []
    },
    {
      "cell_type": "markdown",
      "source": [
        "Use the console.log() method to print the value of the variable a where noted in the code."
      ],
      "metadata": {
        "id": "VXRvK8QGjnNZ"
      }
    },
    {
      "cell_type": "code",
      "source": [
        "let a = 5;\n",
        "let b = 1;\n",
        "a++;\n",
        "// Only change code below this line\n",
        "\n",
        "\n",
        "let sumAB = a + b;\n",
        "console.log(sumAB);\n",
        "\n",
        "console.log(a);"
      ],
      "metadata": {
        "id": "bsqRzuHdjo-Y"
      },
      "execution_count": null,
      "outputs": []
    },
    {
      "cell_type": "markdown",
      "source": [
        "# Understanding the Differences between the freeCodeCamp and Browser Console\n",
        "You may have noticed that some freeCodeCamp challenges include their own console. This console behaves a little differently than the browser console.\n",
        "\n",
        "There are many methods to use with console to output messages. log, warn, and clear to name a few. The freeCodeCamp console will only output log messages, while the browser console will output all messages. When you make changes to your code, it will automatically run and show the logs. The freeCodeCamp console is then cleared each time your code runs.\n",
        "\n",
        "First, open your browser console so you can see the logs. To do that, you can right-click the freeCodeCamp navigation bar at the top and click inspect on most browsers. Then find the console tab in the window that opens.\n",
        "\n",
        "After that, use console.log to log the output variable. View the two consoles to see the log. Finally, use console.clear after your log to clear the browser console. View the difference in the two consoles."
      ],
      "metadata": {
        "id": "tUHL_WNDktsT"
      }
    },
    {
      "cell_type": "code",
      "source": [
        "let output = \"Get this to show once in the freeCodeCamp console and not at all in the browser console\";\n",
        "\n",
        "console.log(output);\n",
        "\n",
        "console.clear();"
      ],
      "metadata": {
        "id": "uj35n39ckzBP"
      },
      "execution_count": null,
      "outputs": []
    },
    {
      "cell_type": "markdown",
      "source": [
        "# Use typeof to Check the Type of a Variable\n",
        "You can use typeof to check the data structure, or type, of a variable. This is useful in debugging when working with multiple data types. If you think you're adding two numbers, but one is actually a string, the results can be unexpected. Type errors can lurk in calculations or function calls. Be careful especially when you're accessing and working with external data in the form of a JavaScript Object Notation (JSON) object.\n",
        "\n",
        "Here are some examples using typeof:"
      ],
      "metadata": {
        "id": "U1kzGD5alatZ"
      }
    },
    {
      "cell_type": "code",
      "source": [
        "console.log(typeof \"\");\n",
        "console.log(typeof 0);\n",
        "console.log(typeof []);\n",
        "console.log(typeof {});"
      ],
      "metadata": {
        "id": "octopCtpleCD"
      },
      "execution_count": null,
      "outputs": []
    },
    {
      "cell_type": "markdown",
      "source": [
        "In order, the console will display the strings string, number, object, and object.\n",
        "\n",
        "JavaScript recognizes seven primitive (immutable) data types: Boolean, Null, Undefined, Number, String, Symbol (new with ES6), and BigInt (new with ES2020), and one type for mutable items: Object. Note that in JavaScript, arrays are technically a type of object.\n",
        "\n",
        "Add two console.log() statements to check the typeof each of the two variables seven and three in the code."
      ],
      "metadata": {
        "id": "cb8CShxKlf_j"
      }
    },
    {
      "cell_type": "code",
      "source": [
        "let seven = 7;\n",
        "let three = \"3\";\n",
        "console.log(seven + three);\n",
        "// Only change code below this line\n",
        "\n",
        "console.log(typeof seven);\n",
        "console.log(typeof three);"
      ],
      "metadata": {
        "id": "0wvyt_LwliYq"
      },
      "execution_count": null,
      "outputs": []
    },
    {
      "cell_type": "markdown",
      "source": [
        "# Catch Misspelled Variable and Function Names\n",
        "The console.log() and typeof methods are the two primary ways to check intermediate values and types of program output. Now it's time to get into the common forms that bugs take. One syntax-level issue that fast typers can commiserate with is the humble spelling error.\n",
        "\n",
        "Transposed, missing, or miscapitalized characters in a variable or function name will have the browser looking for an object that doesn't exist - and complain in the form of a reference error. JavaScript variable and function names are case-sensitive.\n",
        "\n",
        "Fix the two spelling errors in the code so the netWorkingCapital calculation works."
      ],
      "metadata": {
        "id": "Va5ujqKXmaWs"
      }
    },
    {
      "cell_type": "code",
      "source": [
        "// Before\n",
        "\n",
        "let receivables = 10;\n",
        "let payables = 8;\n",
        "let netWorkingCapital = recievables - payable;\n",
        "console.log(`Net working capital is: ${netWorkingCapital}`);\n",
        "\n",
        "// After\n",
        "\n",
        "let receivables = 10;\n",
        "let payables = 8;\n",
        "let netWorkingCapital = receivables - payables;\n",
        "console.log(`Net working capital is: ${netWorkingCapital}`);"
      ],
      "metadata": {
        "id": "rJy8BI1ZmeOm"
      },
      "execution_count": null,
      "outputs": []
    },
    {
      "cell_type": "markdown",
      "source": [
        "# Catch Unclosed Parentheses, Brackets, Braces and Quotes\n",
        "Another syntax error to be aware of is that all opening parentheses, brackets, curly braces, and quotes have a closing pair. Forgetting a piece tends to happen when you're editing existing code and inserting items with one of the pair types. Also, take care when nesting code blocks into others, such as adding a callback function as an argument to a method.\n",
        "\n",
        "One way to avoid this mistake is as soon as the opening character is typed, immediately include the closing match, then move the cursor back between them and continue coding. Fortunately, most modern code editors generate the second half of the pair automatically.\n",
        "\n",
        "Fix the two pair errors in the code."
      ],
      "metadata": {
        "id": "WH6Pzdn3mq_Z"
      }
    },
    {
      "cell_type": "code",
      "source": [
        "let myArray = [1, 2, 3;\n",
        "let arraySum = myArray.reduce((previous, current =>  previous + current);\n",
        "console.log(`Sum of array values is: ${arraySum}`);"
      ],
      "metadata": {
        "id": "4oRse1z7nBTn"
      },
      "execution_count": null,
      "outputs": []
    },
    {
      "cell_type": "code",
      "source": [
        "let myArray = [1, 2, 3];\n",
        "let arraySum = myArray.reduce((previous, current) =>  previous + current);\n",
        "console.log(`Sum of array values is: ${arraySum}`);"
      ],
      "metadata": {
        "id": "R7Z_9LmAnDVC"
      },
      "execution_count": null,
      "outputs": []
    },
    {
      "cell_type": "markdown",
      "source": [
        "# Catch Mixed Usage of Single and Double Quotes\n",
        "JavaScript allows the use of both single (') and double (\") quotes to declare a string. Deciding which one to use generally comes down to personal preference, with some exceptions.\n",
        "\n",
        "Having two choices is great when a string has contractions or another piece of text that's in quotes. Just be careful that you don't close the string too early, which causes a syntax error.\n",
        "\n",
        "Here are some examples of mixing quotes:"
      ],
      "metadata": {
        "id": "vIY-U_MSoYYP"
      }
    },
    {
      "cell_type": "code",
      "source": [
        "const grouchoContraction = \"I've had a perfectly wonderful evening, but this wasn't it.\";\n",
        "const quoteInString = \"Groucho Marx once said 'Quote me as saying I was mis-quoted.'\";\n",
        "const uhOhGroucho = 'I've had a perfectly wonderful evening, but this wasn't it.';"
      ],
      "metadata": {
        "id": "_Qok4SsZobnF"
      },
      "execution_count": null,
      "outputs": []
    },
    {
      "cell_type": "markdown",
      "source": [
        "The first two are correct, but the third is incorrect.\n",
        "\n",
        "Of course, it is okay to use only one style of quotes. You can escape the quotes inside the string by using the backslash (\\) escape character:"
      ],
      "metadata": {
        "id": "Q4P5-ItaoeCj"
      }
    },
    {
      "cell_type": "code",
      "source": [
        "const allSameQuotes = 'I\\'ve had a perfectly wonderful evening, but this wasn\\'t it.';"
      ],
      "metadata": {
        "id": "uO-NuGSfog7a"
      },
      "execution_count": null,
      "outputs": []
    },
    {
      "cell_type": "markdown",
      "source": [
        "Fix the string so it either uses different quotes for the href value, or escape the existing ones. Keep the double quote marks around the entire string."
      ],
      "metadata": {
        "id": "OZ3Oa5rCokiN"
      }
    },
    {
      "cell_type": "code",
      "source": [
        "// Before\n",
        "let innerHtml = \"<p>Click here to <a href=\"#Home\">return home</a></p>\";\n",
        "console.log(innerHtml);"
      ],
      "metadata": {
        "id": "eoEaquCDolGX"
      },
      "execution_count": null,
      "outputs": []
    },
    {
      "cell_type": "code",
      "source": [
        "// After\n",
        "let innerHtml = \"<p>Click here to <a href=\\\"#Home\\\">return home</a></p>\";\n",
        "console.log(innerHtml);"
      ],
      "metadata": {
        "id": "0j_AAzKZopbX"
      },
      "execution_count": null,
      "outputs": []
    },
    {
      "cell_type": "markdown",
      "source": [
        "# Catch Use of Assignment Operator Instead of Equality Operator\n",
        "Branching programs, i.e. ones that do different things if certain conditions are met, rely on if, else if, and else statements in JavaScript. The condition sometimes takes the form of testing whether a result is equal to a value.\n",
        "\n",
        "This logic is spoken (in English, at least) as \"if x equals y, then ...\" which can literally translate into code using the =, or assignment operator. This leads to unexpected control flow in your program.\n",
        "\n",
        "As covered in previous challenges, the assignment operator (=) in JavaScript assigns a value to a variable name. And the == and === operators check for equality (the triple === tests for strict equality, meaning both value and type are the same).\n",
        "\n",
        "The code below assigns x to be 2, which evaluates as true. Almost every value on its own in JavaScript evaluates to true, except what are known as the \"falsy\" values: false, 0, \"\" (an empty string), NaN, undefined, and null."
      ],
      "metadata": {
        "id": "Pxt4m9clpWi2"
      }
    },
    {
      "cell_type": "code",
      "source": [
        "let x = 1;\n",
        "let y = 2;\n",
        "if (x = y) {\n",
        "\n",
        "} else {\n",
        "\n",
        "}"
      ],
      "metadata": {
        "id": "uqnBzWEppamy"
      },
      "execution_count": null,
      "outputs": []
    },
    {
      "cell_type": "markdown",
      "source": [
        "In this example, the code block within the if statement will run for any value of y, unless y is falsy. The else block, which we expect to run here, will not actually run."
      ],
      "metadata": {
        "id": "URSNmQSsprqe"
      }
    },
    {
      "cell_type": "code",
      "source": [
        "let x = 7;\n",
        "let y = 9;\n",
        "let result = \"to come\";\n",
        "\n",
        "if(x = y) {\n",
        "  result = \"Equal!\";\n",
        "} else {\n",
        "  result = \"Not equal!\";\n",
        "}\n",
        "\n",
        "console.log(result);"
      ],
      "metadata": {
        "id": "YNJ9zEHppj18"
      },
      "execution_count": null,
      "outputs": []
    },
    {
      "cell_type": "markdown",
      "source": [
        "Fix the condition so the program runs the right branch, and the appropriate value is assigned to result."
      ],
      "metadata": {
        "id": "uc7yWAkDpck6"
      }
    },
    {
      "cell_type": "code",
      "source": [
        "let x = 7;\n",
        "let y = 9;\n",
        "let result = \"to come\";\n",
        "\n",
        "if(x == y) {\n",
        "  result = \"Equal!\";\n",
        "} else {\n",
        "  result = \"Not equal!\";\n",
        "}\n",
        "\n",
        "console.log(result);"
      ],
      "metadata": {
        "id": "otpqWXUsp2Zm"
      },
      "execution_count": null,
      "outputs": []
    },
    {
      "cell_type": "markdown",
      "source": [
        "# Catch Missing Open and Closing Parenthesis After a Function Call\n",
        "When a function or method doesn't take any arguments, you may forget to include the (empty) opening and closing parentheses when calling it. Often times the result of a function call is saved in a variable for other use in your code. This error can be detected by logging variable values (or their types) to the console and seeing that one is set to a function reference, instead of the expected value the function returns.\n",
        "\n",
        "The variables in the following example are different:"
      ],
      "metadata": {
        "id": "mrp41Q_aqOeH"
      }
    },
    {
      "cell_type": "code",
      "source": [
        "function myFunction() {\n",
        "  return \"You rock!\";\n",
        "}\n",
        "let varOne = myFunction;\n",
        "let varTwo = myFunction();"
      ],
      "metadata": {
        "id": "O2ppqj-VqRY6"
      },
      "execution_count": null,
      "outputs": []
    },
    {
      "cell_type": "markdown",
      "source": [
        "Here varOne is the function myFunction, and varTwo is the string You rock!."
      ],
      "metadata": {
        "id": "cD5WcYmLqUqq"
      }
    },
    {
      "cell_type": "code",
      "source": [
        "function getNine() {\n",
        "  let x = 6;\n",
        "  let y = 3;\n",
        "  return x + y;\n",
        "}\n",
        "\n",
        "let result = getNine;\n",
        "console.log(result);\n",
        "\n",
        "//Output\n",
        "[Function: getNine]"
      ],
      "metadata": {
        "id": "ZYaMGrmRqVp9"
      },
      "execution_count": null,
      "outputs": []
    },
    {
      "cell_type": "markdown",
      "source": [
        "Fix the code so the variable result is set to the value returned from calling the function getNine."
      ],
      "metadata": {
        "id": "_PIRyJdqqa-X"
      }
    },
    {
      "cell_type": "code",
      "source": [
        "function getNine() {\n",
        "  let x = 6;\n",
        "  let y = 3;\n",
        "  return x + y;\n",
        "}\n",
        "\n",
        "let result = getNine();\n",
        "console.log(result);\n",
        "\n",
        "//Output\n",
        "9"
      ],
      "metadata": {
        "id": "KwNRfDf7qdpw"
      },
      "execution_count": null,
      "outputs": []
    },
    {
      "cell_type": "markdown",
      "source": [
        "# Catch Arguments Passed in the Wrong Order When Calling a Function\n",
        "Continuing the discussion on calling functions, the next bug to watch out for is when a function's arguments are supplied in the incorrect order. If the arguments are different types, such as a function expecting an array and an integer, this will likely throw a runtime error. If the arguments are the same type (all integers, for example), then the logic of the code won't make sense. Make sure to supply all required arguments, in the proper order to avoid these issues."
      ],
      "metadata": {
        "id": "9K90jYjlrQ7C"
      }
    },
    {
      "cell_type": "code",
      "source": [
        "function raiseToPower(b, e) {\n",
        "  return Math.pow(b, e);\n",
        "}\n",
        "\n",
        "let base = 2;\n",
        "let exp = 3;\n",
        "let power = raiseToPower(exp, base);\n",
        "console.log(power);\n",
        "\n",
        "// Output\n",
        "9"
      ],
      "metadata": {
        "id": "GAStPzBhrUkW"
      },
      "execution_count": null,
      "outputs": []
    },
    {
      "cell_type": "markdown",
      "source": [
        "The function raiseToPower raises a base to an exponent. Unfortunately, it's not called properly - fix the code so the value of power is the expected 8."
      ],
      "metadata": {
        "id": "951VCs4QrZ1Q"
      }
    },
    {
      "cell_type": "code",
      "source": [
        "function raiseToPower(b, e) {\n",
        "  return Math.pow(b, e);\n",
        "}\n",
        "\n",
        "let base = 2;\n",
        "let exp = 3;\n",
        "let power = raiseToPower(base, exp);\n",
        "console.log(power);\n",
        "\n",
        "// Output\n",
        "8"
      ],
      "metadata": {
        "id": "q45GUFy5rbvI"
      },
      "execution_count": null,
      "outputs": []
    },
    {
      "cell_type": "markdown",
      "source": [
        "# Catch Off By One Errors When Using Indexing\n",
        "Off by one errors (sometimes called OBOE) crop up when you're trying to target a specific index of a string or array (to slice or access a segment), or when looping over the indices of them. JavaScript indexing starts at zero, not one, which means the last index is always one less than the length of the item. If you try to access an index equal to the length, the program may throw an \"index out of range\" reference error or print undefined.\n",
        "\n",
        "When you use string or array methods that take index ranges as arguments, it helps to read the documentation and understand if they are inclusive (the item at the given index is part of what's returned) or not. Here are some examples of off by one errors:"
      ],
      "metadata": {
        "id": "wawt-L7EsEAq"
      }
    },
    {
      "cell_type": "code",
      "source": [
        "let alphabet = \"abcdefghijklmnopqrstuvwxyz\";\n",
        "let len = alphabet.length;\n",
        "for (let i = 0; i <= len; i++) {\n",
        "  console.log(alphabet[i]);\n",
        "}\n",
        "for (let j = 1; j < len; j++) {\n",
        "  console.log(alphabet[j]);\n",
        "}\n",
        "for (let k = 0; k < len; k++) {\n",
        "  console.log(alphabet[k]);\n",
        "}"
      ],
      "metadata": {
        "id": "gesRIyJmsGyk"
      },
      "execution_count": null,
      "outputs": []
    },
    {
      "cell_type": "markdown",
      "source": [
        "The first example here loops one too many times, and the second loops one too few times (missing the first index, 0). The third example is correct."
      ],
      "metadata": {
        "id": "nm4bulyGsI4Z"
      }
    },
    {
      "cell_type": "code",
      "source": [
        "function countToFive() {\n",
        "  let firstFive = \"12345\";\n",
        "  let len = firstFive.length;\n",
        "  // Only change code below this line\n",
        "  for (let i = 1; i <= len; i++) {\n",
        "  // Only change code above this line\n",
        "    console.log(firstFive[i]);\n",
        "  }\n",
        "}\n",
        "\n",
        "countToFive();\n",
        "\n",
        "// Output\n",
        "2\n",
        "3\n",
        "4\n",
        "5\n",
        "undefined"
      ],
      "metadata": {
        "id": "b0enX38rsNZL"
      },
      "execution_count": null,
      "outputs": []
    },
    {
      "cell_type": "markdown",
      "source": [
        "Fix the two indexing errors in the following function so all the numbers 1 through 5 are printed to the console."
      ],
      "metadata": {
        "id": "OR0rLPw-sSbq"
      }
    },
    {
      "cell_type": "code",
      "source": [
        "function countToFive() {\n",
        "  let firstFive = \"12345\";\n",
        "  let len = firstFive.length;\n",
        "  // Only change code below this line\n",
        "  for (let i = 0; i < len; i++) {\n",
        "  // Only change code above this line\n",
        "    console.log(firstFive[i]);\n",
        "  }\n",
        "}\n",
        "\n",
        "countToFive();\n",
        "\n",
        "// Output\n",
        "1\n",
        "2\n",
        "3\n",
        "4\n",
        "5"
      ],
      "metadata": {
        "id": "mcDlyYUvsUDP"
      },
      "execution_count": null,
      "outputs": []
    },
    {
      "cell_type": "markdown",
      "source": [
        "# Use Caution When Reinitializing Variables Inside a Loop\n",
        "Sometimes it's necessary to save information, increment counters, or re-set variables within a loop. A potential issue is when variables either should be reinitialized, and aren't, or vice versa. This is particularly dangerous if you accidentally reset the variable being used for the terminal condition, causing an infinite loop.\n",
        "\n",
        "Printing variable values with each cycle of your loop by using console.log() can uncover buggy behavior related to resetting, or failing to reset a variable."
      ],
      "metadata": {
        "id": "w75CEN2KssiW"
      }
    },
    {
      "cell_type": "code",
      "source": [
        "function zeroArray(m, n) {\n",
        "  // Creates a 2-D array with m rows and n columns of zeroes\n",
        "  let newArray = [];\n",
        "  let row = [];\n",
        "  for (let i = 0; i < m; i++) {\n",
        "    // Adds the m-th row into newArray\n",
        "\n",
        "    for (let j = 0; j < n; j++) {\n",
        "      // Pushes n zeroes into the current row to create the columns\n",
        "      row.push(0);\n",
        "    }\n",
        "    // Pushes the current row, which now has n zeroes in it, to the array\n",
        "    newArray.push(row);\n",
        "  }\n",
        "  return newArray;\n",
        "}\n",
        "\n",
        "let matrix = zeroArray(3, 2);\n",
        "console.log(matrix);\n",
        "\n",
        "// Output\n",
        "[ [ 0, 0, 0, 0, 0, 0 ],\n",
        "  [ 0, 0, 0, 0, 0, 0 ],\n",
        "  [ 0, 0, 0, 0, 0, 0 ] ]"
      ],
      "metadata": {
        "id": "1TWTmXhPsz3X"
      },
      "execution_count": null,
      "outputs": []
    },
    {
      "cell_type": "markdown",
      "source": [
        "The following function is supposed to create a two-dimensional array with m rows and n columns of zeroes. Unfortunately, it's not producing the expected output because the row variable isn't being reinitialized (set back to an empty array) in the outer loop. Fix the code so it returns a correct 3x2 array of zeroes, which looks like [[0, 0], [0, 0], [0, 0]]."
      ],
      "metadata": {
        "id": "tCRiGR_Zs4FE"
      }
    },
    {
      "cell_type": "code",
      "source": [
        "function zeroArray(m, n) {\n",
        "  // Creates a 2-D array with m rows and n columns of zeroes\n",
        "  let newArray = [];\n",
        "  for (let i = 0; i < m; i++) {\n",
        "    // Adds the m-th row into newArray\n",
        "    let row = [];\n",
        "    for (let j = 0; j < n; j++) {\n",
        "      // Pushes n zeroes into the current row to create the columns\n",
        "      row.push(0);\n",
        "    }\n",
        "    // Pushes the current row, which now has n zeroes in it, to the array\n",
        "\n",
        "    newArray.push(row);\n",
        "  }\n",
        "  return newArray;\n",
        "}\n",
        "\n",
        "let matrix = zeroArray(3, 2);\n",
        "console.log(matrix);\n",
        "\n",
        "// Output\n",
        "[ [ 0, 0 ], [ 0, 0 ], [ 0, 0 ] ]"
      ],
      "metadata": {
        "id": "4Z3GqpX2s7FN"
      },
      "execution_count": null,
      "outputs": []
    },
    {
      "cell_type": "markdown",
      "source": [
        "# Prevent Infinite Loops with a Valid Terminal Condition\n",
        "The final topic is the dreaded infinite loop. Loops are great tools when you need your program to run a code block a certain number of times or until a condition is met, but they need a terminal condition that ends the looping. Infinite loops are likely to freeze or crash the browser, and cause general program execution mayhem, which no one wants.\n",
        "\n",
        "There was an example of an infinite loop in the introduction to this section - it had no terminal condition to break out of the while loop inside loopy(). Do NOT call this function!"
      ],
      "metadata": {
        "id": "c-5guzQeuN1b"
      }
    },
    {
      "cell_type": "code",
      "source": [
        "function loopy() {\n",
        "  while(true) {\n",
        "    console.log(\"Hello, world!\");\n",
        "  }\n",
        "}"
      ],
      "metadata": {
        "id": "ETNNR7yduQ48"
      },
      "execution_count": null,
      "outputs": []
    },
    {
      "cell_type": "markdown",
      "source": [
        "It's the programmer's job to ensure that the terminal condition, which tells the program when to break out of the loop code, is eventually reached. One error is incrementing or decrementing a counter variable in the wrong direction from the terminal condition. Another one is accidentally resetting a counter or index variable within the loop code, instead of incrementing or decrementing it."
      ],
      "metadata": {
        "id": "EjrPAzqxuVzP"
      }
    },
    {
      "cell_type": "code",
      "source": [
        "function myFunc() {\n",
        "  for (let i = 1; i != 4; i += 2) {\n",
        "    console.log(\"Still going!\");\n",
        "  }\n",
        "}"
      ],
      "metadata": {
        "id": "cHWZ4H6-ud80"
      },
      "execution_count": null,
      "outputs": []
    },
    {
      "cell_type": "markdown",
      "source": [
        "The myFunc() function contains an infinite loop because the terminal condition i != 4 will never evaluate to false (and break the looping) - i will increment by 2 each pass, and jump right over 4 since i is odd to start. Fix the comparison operator in the terminal condition so the loop only runs for i less than or equal to 4."
      ],
      "metadata": {
        "id": "YsmfyjorunRd"
      }
    },
    {
      "cell_type": "code",
      "source": [
        "function myFunc() {\n",
        "  for (let i = 1; i <= 4; i += 2) {\n",
        "    console.log(\"Still going!\");\n",
        "  }\n",
        "}"
      ],
      "metadata": {
        "id": "uHK1eEV-uao7"
      },
      "execution_count": null,
      "outputs": []
    }
  ]
}